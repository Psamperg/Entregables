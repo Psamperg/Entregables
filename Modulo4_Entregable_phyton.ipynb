{
 "cells": [
  {
   "cell_type": "code",
   "execution_count": null,
   "id": "ce88ea5c",
   "metadata": {},
   "outputs": [
    {
     "name": "stdout",
     "output_type": "stream",
     "text": [
      "(m ---> 2)\n",
      "(e ---> 2)\n",
      "(l ---> 3)\n",
      "(a ---> 5)\n",
      "(o ---> 3)\n",
      "(p ---> 1)\n",
      "(i ---> 1)\n",
      "(r ---> 2)\n",
      "(y ---> 2)\n",
      "(s ---> 1)\n",
      "(d ---> 1)\n",
      "(z ---> 2)\n",
      "(g ---> 1)\n"
     ]
    }
   ],
   "source": [
    "# 1.Escribe una función que reciba una cadena de texto como parámetro y devuelva un diccionario con las frecuencias de cada letra en la cadena. Los espacios no deben ser considerados.\n",
    "def contar_letras(cadena):\n",
    "    cadena = cadena.lower()\n",
    "    frecuencias = {}\n",
    "    \n",
    "    for letra in cadena:\n",
    "        if letra != \" \":  # ignorar espacios\n",
    "            frecuencias[letra] = frecuencias.get(letra, 0) + 1\n",
    "    \n",
    "    return frecuencias\n",
    "\n",
    "texto = \"Me llamo Pilar y soy de Zaragoza\"\n",
    "frecuencias = contar_letras(texto)\n",
    "\n",
    "# Imprimir con formato diccionario\n",
    "for letra, valor in frecuencias.items():\n",
    "    print(f'({letra} ---> {valor})')"
   ]
  },
  {
   "cell_type": "code",
   "execution_count": null,
   "id": "47b004a4",
   "metadata": {},
   "outputs": [
    {
     "name": "stdout",
     "output_type": "stream",
     "text": [
      "[2, 4, 6, 8, 12, 14, 38, 68]\n"
     ]
    }
   ],
   "source": [
    "# 2.Dada una lista de números, obtén una nueva lista con el doble de cada valor. Usa la función map()\n",
    "lista=[1,2,3,4,6,7,19,34]\n",
    "\n",
    "def doble_valor(numeros): \n",
    "    \"\"\"\n",
    "    Args:\n",
    "    numeros(lista): lista de numeros\n",
    "    Returns:\n",
    "    lista: lista de numeros multiplicados por dos\n",
    "    \"\"\"\n",
    "    return numeros*2\n",
    "\n",
    "resultado = list(map(doble_valor, lista))\n",
    "print(resultado)\n"
   ]
  },
  {
   "cell_type": "code",
   "execution_count": null,
   "id": "beede8b5",
   "metadata": {},
   "outputs": [
    {
     "name": "stdout",
     "output_type": "stream",
     "text": [
      "['pajaro', 'araña']\n"
     ]
    }
   ],
   "source": [
    "# 3.Escribe una función que tome una lista de palabras y una palabra objetivo como parámetros. La función debe devolver una lista con todas las palabras de la lista original que contengan la palabra objetivo.\n",
    "\n",
    "def devolver_palabra_objetivo(objetivo,lista_palabras):\n",
    "    \"\"\"\"\n",
    "    Args:\n",
    "    objetivo(str): palabra que tiene que aparecer en la lista de palabras\n",
    "    Returns:\n",
    "    str: palabras que contienen la palabra objetivo\n",
    "    \"\"\"\n",
    "    lista_palabras_objetivo=[]\n",
    "    for palabra in lista_palabras:\n",
    "        if objetivo in palabra:\n",
    "            lista_palabras_objetivo.append(palabra)\n",
    "    return lista_palabras_objetivo\n",
    "\n",
    "lista_palabras=[\"perro\",\"gato\",\"pajaro\",\"avestruz\",\"leon\",\"araña\"]\n",
    "resultado=devolver_palabra_objetivo(\"ar\", lista_palabras)\n",
    "print(resultado)\n",
    "\n"
   ]
  },
  {
   "cell_type": "code",
   "execution_count": 56,
   "id": "f608a8dd",
   "metadata": {},
   "outputs": [
    {
     "name": "stdout",
     "output_type": "stream",
     "text": [
      "[52, 41, 35, 19, 51, 18]\n"
     ]
    }
   ],
   "source": [
    "# 4.Genera una función que calcule la diferencia entre los valores de dos listas. Usa la función map()\n",
    "\n",
    "def restar(x,y):\n",
    "    return x-y\n",
    "\n",
    "def diferencia_valores(lista1,lista2):\n",
    "    \"\"\"Args: \n",
    "    lista 1(lista): lista 1 de valores\n",
    "    lista 2(lista): lista 2 de valores\n",
    "    Returns:\n",
    "    lista: lista que muestra la diferencia entre las dos listas\n",
    "    \"\"\"\n",
    "    return list(map(restar,lista1,lista2))\n",
    "\n",
    "lista1=[55,47,43,23,56,21]\n",
    "lista2=[3,6,8,4,5,3]\n",
    "\n",
    "resultado=diferencia_valores(lista1,lista2)\n",
    "print(resultado)"
   ]
  },
  {
   "cell_type": "code",
   "execution_count": 80,
   "id": "652c754e",
   "metadata": {},
   "outputs": [
    {
     "name": "stdout",
     "output_type": "stream",
     "text": [
      "(4.833333333333333, 'Suspenso')\n"
     ]
    }
   ],
   "source": [
    " # 5. Ecribe una función que tome una lista de números como parámetro y un valor opcional nota_aprobado, que por defecto es 5. La función debe calcular la media de los números en la lista y determinar si la media es mayor o igual que nota aprobado. Si es así, el estado será \"aprobado\", de lo contrario, será \"suspenso\". La función debe devolver una tupla que contenga la media y el estado.\n",
    "\n",
    "def funcion(lista_numeros, nota_aprobado=5):\n",
    "    \"\"\"\n",
    "    Args:\n",
    "        lista_numeros (list): lista de numeros\n",
    "        nota_aprobado (float): nota de aprobado\n",
    "    Returns:\n",
    "        tuple: (media, estado)\n",
    "    \"\"\"\n",
    "    media = sum(lista_numeros) / len(lista_numeros)\n",
    "    if media >= nota_aprobado:\n",
    "        estado = \"Aprobado\"\n",
    "    else:\n",
    "        estado = \"Suspenso\"\n",
    "    return (media, estado)\n",
    "\n",
    "# Lista de ejemplo\n",
    "lista_numeros = [2, 4, 7, 9, 3, 4]\n",
    "resultado = funcion(lista_numeros)\n",
    "print(resultado)\n",
    "\n",
    "\n"
   ]
  },
  {
   "cell_type": "code",
   "execution_count": 86,
   "id": "e78f76bd",
   "metadata": {},
   "outputs": [
    {
     "name": "stdout",
     "output_type": "stream",
     "text": [
      "120\n"
     ]
    }
   ],
   "source": [
    "# 6. Escribe una función que calcule el factorial de un número de manera recursiva.\n",
    "def factorial(numero):\n",
    "    \"\"\"\n",
    "    Calcula el factorial de un número de manera recursiva.\n",
    "    Args:\n",
    "        numero (int): número para calcular factorial\n",
    "    Returns:\n",
    "        int: factorial de numero\n",
    "    \"\"\"\n",
    "    if numero <= 1:       \n",
    "        return 1\n",
    "    else:                 \n",
    "        return numero * factorial(numero - 1)\n",
    "\n",
    "# Ejemplo de uso\n",
    "numero = 5\n",
    "resultado = factorial(numero)\n",
    "print(resultado)\n"
   ]
  },
  {
   "cell_type": "code",
   "execution_count": 87,
   "id": "4ebcdef2",
   "metadata": {},
   "outputs": [
    {
     "name": "stdout",
     "output_type": "stream",
     "text": [
      "['(1, 2)', '(3, 4)', '(5, 6)']\n"
     ]
    }
   ],
   "source": [
    "# 7. Genera una función que convierta una lista de tuplas a una lista de strings. Usa la función map()\n",
    "def convertidor(lista):\n",
    "    \"\"\"\n",
    "    Args:\n",
    "        lista (list): lista de tuplas a convertir a string\n",
    "    Returns:\n",
    "        list: lista de strings\n",
    "    \"\"\"\n",
    "    return list(map(str, lista))\n",
    "\n",
    "# Ejemplo de uso\n",
    "lista_tuplas = [(1, 2), (3, 4), (5, 6)]\n",
    "resultado = convertidor(lista_tuplas)\n",
    "print(resultado)\n"
   ]
  },
  {
   "cell_type": "code",
   "execution_count": null,
   "id": "43305640",
   "metadata": {},
   "outputs": [
    {
     "name": "stdout",
     "output_type": "stream",
     "text": [
      "Error: Debes introducir solo números.\n"
     ]
    }
   ],
   "source": [
    "#8. Escribe un programa que pida al usuario dos números e intente dividirlos. Si el usuario ingresa un valor no numérico o intenta dividir por cero, maneja esas excepciones de manera adecuada. Asegúrate de mostrar un mensaje indicando si la división fue exitosa o no.\n",
    "\n",
    "try:\n",
    "    numero1 = float(input(\"Dime un número aleatorio: \"))\n",
    "    numero2 = float(input(\"Dime otro número aleatorio: \"))\n",
    "    resultado = numero1 / numero2\n",
    "except ValueError:\n",
    "    print(\"Error: Debes introducir solo números\")\n",
    "except ZeroDivisionError:\n",
    "    print(\"Error: No se puede dividir entre cero\")\n",
    "else:\n",
    "    print(f\"El resultado de la división es {resultado}\")\n"
   ]
  },
  {
   "cell_type": "code",
   "execution_count": 108,
   "id": "0e53eace",
   "metadata": {},
   "outputs": [
    {
     "name": "stdout",
     "output_type": "stream",
     "text": [
      "['Perro', 'Gato']\n"
     ]
    }
   ],
   "source": [
    "# 9.Escribe una función que tome una lista de nombres de mascotas como parámetro y devuelva una nueva lista excluyendo ciertas mascotas prohibidas en España. La lista de mascotas a excluir es [\"Mapache\", \"Tigre\", \"Serpiente Pitón\", \"Cocodrilo\", \"Oso\"].Usa la función filter()\n",
    "\n",
    "def es_valida(mascota, lista_excluir):\n",
    "    return mascota not in lista_excluir\n",
    "\n",
    "def funcion_eliminar(lista1, lista2):\n",
    "    \"\"\"\n",
    "    Args:\n",
    "        lista1 (list): lista principal con todas las mascotas\n",
    "        lista2 (list): lista secundaria con mascotas a eliminar\n",
    "    Returns:\n",
    "        list: lista de mascotas sin tener en cuenta las que hay que eliminar\n",
    "    \"\"\"\n",
    "    def filtro(mascota):\n",
    "        return es_valida(mascota, lista2)\n",
    "\n",
    "    return list(filter(filtro, lista1))\n",
    "\n",
    "\n",
    "lista_mascotas = [\"Perro\", \"Gato\", \"Serpiente Pitón\", \"Cocodrilo\", \"Oso\", \"Mapache\", \"Tigre\"]\n",
    "lista_mascotas_excluir = [\"Mapache\", \"Tigre\", \"Serpiente Pitón\", \"Cocodrilo\", \"Oso\"]\n",
    "\n",
    "resultado = funcion_eliminar(lista_mascotas, lista_mascotas_excluir)\n",
    "print(resultado)\n"
   ]
  },
  {
   "cell_type": "code",
   "execution_count": 119,
   "id": "5853dc89",
   "metadata": {},
   "outputs": [
    {
     "name": "stdout",
     "output_type": "stream",
     "text": [
      "30.428571428571427\n"
     ]
    }
   ],
   "source": [
    "# 10. Escribe una función que reciba una lista de números y calcule su promedio. Si la lista está vacía, lanza una excepción personalizada y maneja el error adecuadamente.\n",
    "\n",
    "def media(lista_numeros):\n",
    "    \"\"\"\n",
    "    Args:\n",
    "    lista_numeros(list): lista de numeros a calcular su promedio\n",
    "    Results:\n",
    "    float: promedio de la lista\n",
    "    \"\"\"\n",
    "    try:\n",
    "        resultado=sum(lista_numeros)/ len(lista_numeros)\n",
    "    except ZeroDivisionError:\n",
    "        print(f'La lista está vacia')\n",
    "    return(resultado)\n",
    "\n",
    "lista_numeros=[4,5,6,7,88,97,6]\n",
    "\n",
    "resultado_ejercio=media(lista_numeros)\n",
    "print(resultado_ejercio)"
   ]
  },
  {
   "cell_type": "code",
   "execution_count": 132,
   "id": "8faf4f1a",
   "metadata": {},
   "outputs": [
    {
     "name": "stdout",
     "output_type": "stream",
     "text": [
      "Has introducido un valor no numérico\n"
     ]
    }
   ],
   "source": [
    "# 11. Escribe un programa que pida al usuario que introduzca su edad. Si el usuario ingresa un valor no numérico o un valor fuera del rango esperado (por ejemplo, menor que 0 o mayor que 120, maneja las excepciones adecuadamente.\n",
    "\n",
    "try:\n",
    "    edad = int(input(\"Introduzca su edad: \"))\n",
    "    if edad < 0 or edad > 120:\n",
    "        print(\"Edad fuera de rango (0-120)\")\n",
    "    else:\n",
    "        print(f\"Tu edad es {edad}\")\n",
    "except ValueError:\n",
    "    print(\"Has introducido un valor no numérico\")\n",
    "\n"
   ]
  },
  {
   "cell_type": "code",
   "execution_count": 146,
   "id": "a931e308",
   "metadata": {},
   "outputs": [
    {
     "name": "stdout",
     "output_type": "stream",
     "text": [
      "[4, 2, 6, 2, 5]\n"
     ]
    }
   ],
   "source": [
    "# 12. Genera una función que al recibir una frase devuelva una lista con la longitud de cada palabra. Usa la función\n",
    "\n",
    "def lista_longitud(frase):\n",
    "    \"\"\"\n",
    "    Args:\n",
    "        frase (str): frase de palabras\n",
    "    Returns:\n",
    "        list: lista con la longitud de cada palabra\n",
    "    \"\"\"\n",
    "    palabras = frase.split()\n",
    "    return list(map(len, palabras))  # Aplicamos len a cada palabra\n",
    "\n",
    "# Ejemplo de uso\n",
    "frase = \"Hola mi nombre es Pilar\"\n",
    "resultado = lista_longitud(frase)\n",
    "print(resultado)\n"
   ]
  },
  {
   "cell_type": "code",
   "execution_count": null,
   "id": "a4a344b6",
   "metadata": {},
   "outputs": [],
   "source": [
    "# 13. Genera una función la cual, para un conjunto de caracteres, devuelva una lista de tuplas con cada letra en mayúsculas y minúsculas. Las letras no pueden estar repetidas .Usa la función map()\n",
    "\n",
    "def mayus_minus_unicas(conjunto):\n",
    "    \"\"\"\n",
    "    Args:\n",
    "        conjunto (str): conjunto de caracteres\n",
    "    Returns:\n",
    "        list: lista de tuplas con (mayúscula, minúscula) sin repeticiones\n",
    "    \"\"\"\n",
    "    # Convertimos a conjunto para eliminar duplicados\n",
    "    caracteres_unicos = set(conjunto)\n",
    "    \n",
    "    # Función que devuelve tupla (mayúscula, minúscula)\n",
    "    def mayus_minus(c):\n",
    "        return (c.upper(), c.lower())\n",
    "    \n",
    "    # Usamos map sobre los caracteres únicos\n",
    "    return list(map(mayus_minus, caracteres_unicos))\n",
    "\n",
    "# Ejemplo de uso\n",
    "conjunto = \"aAbBcCaa\"\n",
    "resultado = mayus_minus_unicas(conjunto)\n",
    "print(resultado)\n"
   ]
  },
  {
   "cell_type": "code",
   "execution_count": 55,
   "id": "a0adcf37",
   "metadata": {},
   "outputs": [
    {
     "name": "stdout",
     "output_type": "stream",
     "text": [
      "['manzana', 'Melón', 'mango']\n"
     ]
    }
   ],
   "source": [
    "# 14. Crea una función que retorne las palabras de una lista de palabras que comience con una letra en especifico. Usa la función\n",
    "\n",
    "def palabras_por_letra(lista_palabras, letra):\n",
    "    \"\"\"\n",
    "    Retorna las palabras que comienzan con la letra especificada.\n",
    "    \n",
    "    Args:\n",
    "        lista_palabras (list): Lista de palabras.\n",
    "        letra (str): Letra con la que deben comenzar las palabras.\n",
    "        \n",
    "    Returns:\n",
    "        list: Palabras que comienzan con la letra indicada.\n",
    "    \"\"\"\n",
    "    # Convertir la letra a minúscula para comparación insensible a mayúsculas\n",
    "    letra = letra.lower()\n",
    "    \n",
    "    # Usamos filter para seleccionar las palabras que comienzan con la letra\n",
    "    resultado = list(filter(lambda palabra: palabra.lower().startswith(letra), lista_palabras))\n",
    "    return resultado\n",
    "\n",
    "palabras = [\"manzana\", \"Melón\", \"pera\", \"mango\", \"banana\"]\n",
    "print(palabras_por_letra(palabras, \"m\"))\n",
    "\n",
    "\n",
    "\n"
   ]
  },
  {
   "cell_type": "code",
   "execution_count": null,
   "id": "eaf6026d",
   "metadata": {},
   "outputs": [],
   "source": [
    "# 15. Crea una función que retorne las palabras de una lista de palabras que comience con una letra en especifico. Usa la función filter()\n",
    "\n",
    "def palabras_con_letra(lista_palabras, letra):\n",
    "    \"\"\"\n",
    "    Args:\n",
    "        lista_palabras (list): lista de palabras\n",
    "        letra (str): letra con la que deben comenzar las palabras\n",
    "    Returns:\n",
    "        list: lista de palabras que comienzan con la letra indicada\n",
    "    \"\"\"\n",
    "    # Función que verifica si una palabra empieza con la letra\n",
    "    def empieza_con(palabra):\n",
    "        return pal\n",
    "\n",
    "        \n"
   ]
  },
  {
   "cell_type": "code",
   "execution_count": null,
   "id": "5889e76c",
   "metadata": {},
   "outputs": [
    {
     "name": "stdout",
     "output_type": "stream",
     "text": [
      "['llamo', 'Pilar', 'estoy', 'aprendiendo', 'Python']\n"
     ]
    }
   ],
   "source": [
    "#16.Escribe una función que tome una cadena de texto y un número entero n como parámetros y devuelva una lista de todas las palabras que sean más largas que n. Usa la función filter()\n",
    "\n",
    "def palabras_mayores_n(texto, n):\n",
    "    \"\"\"\n",
    "    Args: \n",
    "        texto (str): Cadena de texto\n",
    "        n (int): Número mínimo de letras que deben tener las palabras\n",
    "    Returns:\n",
    "        list: Lista de las palabras del texto que tengan más de n letras\n",
    "    \"\"\"\n",
    "    palabras = texto.split()  # separar el texto en palabras\n",
    "    \n",
    "    def es_larga(palabra):\n",
    "        return len(palabra) > n\n",
    "    \n",
    "    return list(filter(es_larga, palabras))\n",
    "\n",
    "\n",
    "# Ejemplo de uso\n",
    "texto = \"Me llamo Pilar y estoy aprendiendo Python\"\n",
    "resultado = palabras_mayores_n(texto, 4)\n",
    "print(resultado) \n",
    "\n"
   ]
  },
  {
   "cell_type": "code",
   "execution_count": 16,
   "id": "409ee640",
   "metadata": {},
   "outputs": [
    {
     "name": "stdout",
     "output_type": "stream",
     "text": [
      "5627\n"
     ]
    }
   ],
   "source": [
    "# 17.Crea una función que tome una lista de dígitos y devuelva el número correspondiente. Por ejemplo, 5,7,2 corresponde al número quinientos setenta y dos 572. Usa la función reduce()\n",
    "\n",
    "from functools import reduce\n",
    "\n",
    "def lista_a_numero(digitos):\n",
    "    \"\"\"\n",
    "    Args:\n",
    "        digitos (list): lista de dígitos (enteros entre 0-9)\n",
    "    Returns:\n",
    "        int: número formado por los dígitos\n",
    "    \"\"\"\n",
    "    return reduce(lambda x, y: x * 10 + y, digitos)\n",
    "\n",
    "\n",
    "lista = [5, 6, 2,7]\n",
    "resultado = lista_a_numero(lista)\n",
    "print(resultado)\n"
   ]
  },
  {
   "cell_type": "code",
   "execution_count": 17,
   "id": "5ce08b96",
   "metadata": {},
   "outputs": [
    {
     "name": "stdout",
     "output_type": "stream",
     "text": [
      "[{'nombre': 'Ana', 'edad': 20, 'calificacion': 95}, {'nombre': 'Pilar', 'edad': 21, 'calificacion': 92}]\n"
     ]
    }
   ],
   "source": [
    "# 18.Escribe un programa en Python que cree una lista de diccionarios que contenga información de estudiantes (nombre, edad, calificación) y use la función filter para extraer a los estudiantes con una calificación mayor o igual a 90. Usa la función filter()\n",
    "\n",
    "estudiantes = [\n",
    "    {\"nombre\": \"Ana\", \"edad\": 20, \"calificacion\": 95},\n",
    "    {\"nombre\": \"Luis\", \"edad\": 22, \"calificacion\": 88},\n",
    "    {\"nombre\": \"Pilar\", \"edad\": 21, \"calificacion\": 92},\n",
    "    {\"nombre\": \"Jorge\", \"edad\": 23, \"calificacion\": 85}\n",
    "]\n",
    "\n",
    "\n",
    "def aprobado(estudiante):\n",
    "    return estudiante[\"calificacion\"] >= 90\n",
    "\n",
    "\n",
    "estudiantes_aprobados = list(filter(aprobado, estudiantes))\n",
    "\n",
    "\n",
    "print(estudiantes_aprobados)\n"
   ]
  },
  {
   "cell_type": "code",
   "execution_count": 18,
   "id": "b209c0b3",
   "metadata": {},
   "outputs": [
    {
     "name": "stdout",
     "output_type": "stream",
     "text": [
      "[1, 3, 5, 7, 9]\n"
     ]
    }
   ],
   "source": [
    "# 19. Crea una función lambda que filtre los números impares de una lista dada.\n",
    "\n",
    "# Lista de ejemplo\n",
    "numeros = [1, 2, 3, 4, 5, 6, 7, 8, 9]\n",
    "\n",
    "# Filtrar números impares usando lambda y filter\n",
    "impares = list(filter(lambda x: x % 2 != 0, numeros))\n",
    "\n",
    "print(impares)\n"
   ]
  },
  {
   "cell_type": "code",
   "execution_count": 19,
   "id": "576f5377",
   "metadata": {},
   "outputs": [
    {
     "name": "stdout",
     "output_type": "stream",
     "text": [
      "[1, 3, 5, 7]\n"
     ]
    }
   ],
   "source": [
    "# 20.Para una lista con elementos tipo integer y string obtén una nueva lista sólo con los valores int. Usa la función filter()\n",
    "\n",
    "# Lista de ejemplo con enteros y strings\n",
    "lista_mixta = [1, \"hola\", 3, \"mundo\", 5, \"Python\", 7]\n",
    "\n",
    "# Filtrar solo los enteros\n",
    "solo_enteros = list(filter(lambda x: isinstance(x, int), lista_mixta))\n",
    "\n",
    "print(solo_enteros)\n"
   ]
  },
  {
   "cell_type": "code",
   "execution_count": 20,
   "id": "5eb43b35",
   "metadata": {},
   "outputs": [
    {
     "name": "stdout",
     "output_type": "stream",
     "text": [
      "64\n"
     ]
    }
   ],
   "source": [
    "# 21. Crea una función que calcule el cubo de un número dado mediante una función lambda\n",
    "\n",
    "# Función lambda que calcula el cubo\n",
    "cubo = lambda x: x**3\n",
    "\n",
    "# Ejemplo de uso\n",
    "numero = 4\n",
    "resultado = cubo(numero)\n",
    "print(resultado)\n"
   ]
  },
  {
   "cell_type": "code",
   "execution_count": 21,
   "id": "3c2b0ea9",
   "metadata": {},
   "outputs": [
    {
     "name": "stdout",
     "output_type": "stream",
     "text": [
      "120\n"
     ]
    }
   ],
   "source": [
    "# 22.Dada una lista numérica, obtén el producto total de los valores de dicha lista.Usa la función reduce() .\n",
    "\n",
    "from functools import reduce\n",
    "\n",
    "# Lista de ejemplo\n",
    "numeros = [2, 3, 4, 5]\n",
    "\n",
    "# Función reduce para calcular el producto total\n",
    "producto_total = reduce(lambda x, y: x * y, numeros)\n",
    "\n",
    "print(producto_total)\n"
   ]
  },
  {
   "cell_type": "code",
   "execution_count": 22,
   "id": "2e83bc3e",
   "metadata": {},
   "outputs": [
    {
     "name": "stdout",
     "output_type": "stream",
     "text": [
      "Hola mundo esto es Python\n"
     ]
    }
   ],
   "source": [
    "# 23.Concatena una lista de palabras.Usa la función reduce() .\n",
    "\n",
    "from functools import reduce\n",
    "\n",
    "# Lista de palabras de ejemplo\n",
    "palabras = [\"Hola\", \"mundo\", \"esto\", \"es\", \"Python\"]\n",
    "\n",
    "# Usamos reduce para concatenar todas las palabras\n",
    "frase = reduce(lambda x, y: x + \" \" + y, palabras)\n",
    "\n",
    "print(frase)\n"
   ]
  },
  {
   "cell_type": "code",
   "execution_count": 23,
   "id": "7e163799",
   "metadata": {},
   "outputs": [
    {
     "name": "stdout",
     "output_type": "stream",
     "text": [
      "75\n"
     ]
    }
   ],
   "source": [
    "# 24.Calcula la diferencia total en los valores de una lista. Usa la función reduce() .\n",
    "\n",
    "from functools import reduce\n",
    "\n",
    "# Lista de ejemplo\n",
    "numeros = [100, 20, 5]\n",
    "\n",
    "# Usamos reduce para calcular la diferencia total\n",
    "diferencia_total = reduce(lambda x, y: x - y, numeros)\n",
    "\n",
    "print(diferencia_total)\n"
   ]
  },
  {
   "cell_type": "code",
   "execution_count": null,
   "id": "3a446cdf",
   "metadata": {},
   "outputs": [],
   "source": [
    "# 25.Crea una función que cuente el número de caracteres en una cadena de texto dada.\n",
    "\n",
    "def contar_caracteres(cadena):\n",
    "    \"\"\"\n",
    "    Args:\n",
    "        cadena (str): cadena de texto a analizar\n",
    "    Returns:\n",
    "        int: número de caracteres en la cadena\n",
    "    \"\"\"\n",
    "    return len(cadena)\n",
    "\n",
    "# Ejemplo de uso\n",
    "texto\n"
   ]
  },
  {
   "cell_type": "code",
   "execution_count": 24,
   "id": "7ad6d62b",
   "metadata": {},
   "outputs": [
    {
     "name": "stdout",
     "output_type": "stream",
     "text": [
      "2\n"
     ]
    }
   ],
   "source": [
    "# 26.Crea una función lambda que calcule el resto de la división entre dos números dados.\n",
    "\n",
    "# Función lambda para calcular el resto de la división\n",
    "resto = lambda x, y: x % y\n",
    "\n",
    "# Ejemplo de uso\n",
    "a = 17\n",
    "b = 5\n",
    "resultado = resto(a, b)\n",
    "print(resultado)\n"
   ]
  },
  {
   "cell_type": "code",
   "execution_count": 25,
   "id": "14bd2d79",
   "metadata": {},
   "outputs": [
    {
     "name": "stdout",
     "output_type": "stream",
     "text": [
      "5.5\n"
     ]
    }
   ],
   "source": [
    "# 27.Crea una función que calcule el promedio de una lista de números\n",
    "\n",
    "def promedio(lista_numeros):\n",
    "    \"\"\"\n",
    "    Args:\n",
    "        lista_numeros (list): lista de números\n",
    "    Returns:\n",
    "        float: promedio de la lista\n",
    "    \"\"\"\n",
    "    if not lista_numeros:\n",
    "        return 0  # o puedes lanzar una excepción si quieres\n",
    "    return sum(lista_numeros) / len(lista_numeros)\n",
    "\n",
    "# Ejemplo de uso\n",
    "numeros = [4, 5, 6, 7]\n",
    "resultado = promedio(numeros)\n",
    "print(resultado)\n"
   ]
  },
  {
   "cell_type": "code",
   "execution_count": 26,
   "id": "3395fae2",
   "metadata": {},
   "outputs": [
    {
     "name": "stdout",
     "output_type": "stream",
     "text": [
      "5\n"
     ]
    }
   ],
   "source": [
    "# 28. Crea una función que busque y devuelva el primer elemento duplicado en una lista dada.\n",
    "def primer_duplicado(lista):\n",
    "    \"\"\"\n",
    "    Args:\n",
    "        lista (list): lista de elementos\n",
    "    Returns:\n",
    "        elemento: primer elemento duplicado encontrado o None si no hay duplicados\n",
    "    \"\"\"\n",
    "    vistos = set()\n",
    "    for elemento in lista:\n",
    "        if elemento in vistos:\n",
    "            return elemento\n",
    "        vistos.add(elemento)\n",
    "    return None  # si no hay duplicados\n",
    "\n",
    "# Ejemplo de uso\n",
    "lista = [3, 5, 2, 4, 5, 7, 2]\n",
    "resultado = primer_duplicado(lista)\n",
    "print(resultado)\n",
    "\n"
   ]
  },
  {
   "cell_type": "code",
   "execution_count": 28,
   "id": "8033152b",
   "metadata": {},
   "outputs": [
    {
     "name": "stdout",
     "output_type": "stream",
     "text": [
      "#####6789\n"
     ]
    }
   ],
   "source": [
    "# 29.Crea una función que convierta una variable en una cadena de texto y enmascare todos los caracteres  con el carácter '#', excepto los últimos cuatro.\n",
    "\n",
    "def enmascarar_variable(valor):\n",
    "    \"\"\"\n",
    "    Args:\n",
    "        valor: cualquier tipo de dato (int, float, str, etc.)\n",
    "    Returns:\n",
    "        str: cadena enmascarada con '#' excepto los últimos 4 caracteres\n",
    "    \"\"\"\n",
    "    texto = str(valor)  # Convertimos a string\n",
    "    if len(texto) <= 4:\n",
    "        return texto  # Si tiene 4 o menos caracteres, no se enmascara\n",
    "    return '#' * (len(texto) - 4) + texto[-4:]\n",
    "\n",
    "# Ejemplo de uso\n",
    "numero = 123456789\n",
    "resultado = enmascarar_variable(numero)\n",
    "print(resultado)\n"
   ]
  },
  {
   "cell_type": "code",
   "execution_count": 29,
   "id": "2e45d2ea",
   "metadata": {},
   "outputs": [
    {
     "name": "stdout",
     "output_type": "stream",
     "text": [
      "True\n",
      "False\n"
     ]
    }
   ],
   "source": [
    "# 30.Crea una función que determine si dos palabras son anagramas, es decir, si están formadas por las mismas letras pero en diferente orden.\n",
    "def son_anagramas(palabra1, palabra2):\n",
    "    \"\"\"\n",
    "    Args:\n",
    "        palabra1 (str): primera palabra\n",
    "        palabra2 (str): segunda palabra\n",
    "    Returns:\n",
    "        bool: True si son anagramas, False si no\n",
    "    \"\"\"\n",
    "    # Eliminamos espacios y convertimos a minúsculas para comparar correctamente\n",
    "    palabra1 = palabra1.replace(\" \", \"\").lower()\n",
    "    palabra2 = palabra2.replace(\" \", \"\").lower()\n",
    "    \n",
    "    # Comparamos si las letras ordenadas son iguales\n",
    "    return sorted(palabra1) == sorted(palabra2)\n",
    "\n",
    "# Ejemplo de uso\n",
    "resultado = son_anagramas(\"roma\", \"amor\")\n",
    "print(resultado)  # True\n",
    "\n",
    "resultado2 = son_anagramas(\"hola\", \"mundo\")\n",
    "print(resultado2)  # False\n"
   ]
  },
  {
   "cell_type": "code",
   "execution_count": 41,
   "id": "589bb3ab",
   "metadata": {},
   "outputs": [
    {
     "name": "stdout",
     "output_type": "stream",
     "text": [
      "El nombre \"juan\" fue encontrado\n"
     ]
    }
   ],
   "source": [
    "# 31.Crea una función que solicite al usuario ingresar una lista de nombres y luego solicite un nombre para buscar en esa lista. Si el nombre está en la lista, se imprime un mensaje indicando que fue encontrado, de lo contrario, se lanza una excepción.\n",
    "def lista_nombres():\n",
    "    \"\"\"\n",
    "    Solicita al usuario una lista de nombres y un nombre a buscar.\n",
    "    Si el nombre está en la lista, imprime un mensaje, de lo contrario lanza una excepción.\n",
    "    \"\"\"\n",
    "  \n",
    "    lista = input(\"Dame una lista de nombres separados por comas: \").split(\",\")\n",
    "\n",
    "    lista = [nombre.strip() for nombre in lista]\n",
    "\n",
    "    nombre = input(\"¿Qué nombre quieres buscar en esta lista?: \").strip()\n",
    "\n",
    "    if nombre in lista:\n",
    "        print(f'El nombre \"{nombre}\" fue encontrado')\n",
    "    else:\n",
    "        raise Exception(f' El nombre \"{nombre}\" no fue encontrado')\n",
    "\n",
    "\n",
    "lista_nombres()\n"
   ]
  },
  {
   "cell_type": "code",
   "execution_count": 42,
   "id": "620ef4a1",
   "metadata": {},
   "outputs": [
    {
     "name": "stdout",
     "output_type": "stream",
     "text": [
      "Pilar Samper trabaja como Data Analyst\n",
      "La persona \"Luis García\" no trabaja aquí.\n"
     ]
    }
   ],
   "source": [
    "# 32. Crea una función que tome un nombre completo y una lista de empleados, busque el nombre completo en la lista y devuelve el puesto del empleado si está en la lista, de lo contrario, devuelve un mensaje indicando que la persona no trabaja aquí.\n",
    "def buscar_empleado(nombre_completo, empleados):\n",
    "    \"\"\"\n",
    "    Args:\n",
    "        nombre_completo (str): Nombre completo del empleado a buscar.\n",
    "        empleados (list): Lista de diccionarios con 'nombre' y 'puesto'.\n",
    "    \n",
    "    Returns:\n",
    "        str: El puesto del empleado si se encuentra, o un mensaje indicando que no trabaja aquí.\n",
    "    \"\"\"\n",
    "    for empleado in empleados:\n",
    "        if empleado[\"nombre\"].lower() == nombre_completo.lower():\n",
    "            return f'{empleado[\"nombre\"]} trabaja como {empleado[\"puesto\"]}'\n",
    "    return f'La persona \"{nombre_completo}\" no trabaja aquí.'\n",
    "\n",
    "\n",
    "# Ejemplo de uso\n",
    "empleados = [\n",
    "    {\"nombre\": \"Pilar Samper\", \"puesto\": \"Data Analyst\"},\n",
    "    {\"nombre\": \"Juan Pérez\", \"puesto\": \"Ingeniero\"},\n",
    "    {\"nombre\": \"Ana López\", \"puesto\": \"Diseñadora\"}\n",
    "]\n",
    "\n",
    "print(buscar_empleado(\"Pilar Samper\", empleados))\n",
    "print(buscar_empleado(\"Luis García\", empleados))\n"
   ]
  },
  {
   "cell_type": "code",
   "execution_count": 43,
   "id": "ce092318",
   "metadata": {},
   "outputs": [
    {
     "name": "stdout",
     "output_type": "stream",
     "text": [
      "[11, 22, 33, 44]\n"
     ]
    }
   ],
   "source": [
    "# 33.Crea una función lambda que sume elementos correspondientes de dos listas dadas.\n",
    "\n",
    "# Definimos dos listas\n",
    "lista1 = [1, 2, 3, 4]\n",
    "lista2 = [10, 20, 30, 40]\n",
    "\n",
    "# Usamos lambda + map para sumar elemento a elemento\n",
    "suma_listas = list(map(lambda x, y: x + y, lista1, lista2))\n",
    "\n",
    "print(suma_listas)\n"
   ]
  },
  {
   "cell_type": "code",
   "execution_count": 56,
   "id": "0e8aa51a",
   "metadata": {},
   "outputs": [
    {
     "name": "stdout",
     "output_type": "stream",
     "text": [
      "[11, 22, 33, 44]\n"
     ]
    }
   ],
   "source": [
    "# 33. Crea una función lambda que sume elementos correspondientes de dos listas dadas.\n",
    "# Listas de ejemplo\n",
    "lista1 = [1, 2, 3, 4]\n",
    "lista2 = [10, 20, 30, 40]\n",
    "\n",
    "# Usando lambda + map para sumar elemento por elemento\n",
    "suma_listas = list(map(lambda x, y: x + y, lista1, lista2))\n",
    "\n",
    "print(suma_listas)\n"
   ]
  },
  {
   "cell_type": "code",
   "execution_count": 45,
   "id": "d3bb691d",
   "metadata": {},
   "outputs": [],
   "source": [
    "# 34.Crea la clase Arbol , define un árbol genérico con un tronco y ramas como atributos. Los métodos disponibles son: crecer_tronco , nueva_rama , crecer_ramas , quitar_rama e info_arbol . El objetivo es implementar estos métodos para manipular la estructura del árbol. Código a seguir: 1. Inicializar un árbol con un tronco de longitud 1 y una lista vacía de ramas. 2. Implementar el método crecer_tronco para aumentar la longitud del tronco en una unidad. 3. Implementar el método nueva_rama para agregar una nueva rama de longitud 1 a la lista de ramas. 4. Implementar el método crecer_ramas para aumentar en una unidad la longitud de todas las ramas existentes. 5. Implementar el método quitar_rama para eliminar una rama en una posición específica.\n",
    "class Arbol:\n",
    "    def __init__(self):\n",
    "        # 1. Inicializar tronco y ramas\n",
    "        self.tronco = 1\n",
    "        self.ramas = []\n",
    "\n",
    "    def crecer_tronco(self):\n",
    "        # 2. Aumentar longitud del tronco en 1\n",
    "        self.tronco += 1\n",
    "\n",
    "    def nueva_rama(self):\n",
    "        # 3. Agregar una rama nueva de longitud 1\n",
    "        self.ramas.append(1)\n",
    "\n",
    "    def crecer_ramas(self):\n",
    "        # 4. Aumentar en 1 la longitud de todas las ramas\n",
    "        self.ramas = [rama + 1 for rama in self.ramas]\n",
    "\n",
    "    def quitar_rama(self, posicion):\n",
    "        # 5. Eliminar una rama por índice (si existe)\n",
    "        if 0 <= posicion < len(self.ramas):\n",
    "            self.ramas.pop(posicion)\n",
    "        else:\n",
    "            print(\"Posición inválida: no hay rama en ese índice.\")\n",
    "\n",
    "    def info_arbol(self):\n",
    "        # Información general del árbol\n",
    "        return f\"Tronco: {self.tronco}, Ramas: {self.ramas}\"\n"
   ]
  },
  {
   "cell_type": "code",
   "execution_count": 46,
   "id": "f819116f",
   "metadata": {},
   "outputs": [
    {
     "name": "stdout",
     "output_type": "stream",
     "text": [
      "Bob ha agregado 20. Saldo actual: 70\n"
     ]
    },
    {
     "ename": "Exception",
     "evalue": "Bob no tiene suficiente saldo para transferir.",
     "output_type": "error",
     "traceback": [
      "\u001b[31m---------------------------------------------------------------------------\u001b[39m",
      "\u001b[31mException\u001b[39m                                 Traceback (most recent call last)",
      "\u001b[36mCell\u001b[39m\u001b[36m \u001b[39m\u001b[32mIn[46]\u001b[39m\u001b[32m, line 51\u001b[39m\n\u001b[32m     48\u001b[39m bob.agregar_dinero(\u001b[32m20\u001b[39m)  \u001b[38;5;66;03m# Saldo Bob: 70\u001b[39;00m\n\u001b[32m     50\u001b[39m \u001b[38;5;66;03m# 2. Transferir 80 unidades desde Bob a Alicia\u001b[39;00m\n\u001b[32m---> \u001b[39m\u001b[32m51\u001b[39m \u001b[43malicia\u001b[49m\u001b[43m.\u001b[49m\u001b[43mtransferir_dinero\u001b[49m\u001b[43m(\u001b[49m\u001b[43mbob\u001b[49m\u001b[43m,\u001b[49m\u001b[43m \u001b[49m\u001b[32;43m80\u001b[39;49m\u001b[43m)\u001b[49m  \u001b[38;5;66;03m# Bob -> Alicia\u001b[39;00m\n\u001b[32m     53\u001b[39m \u001b[38;5;66;03m# 3. Retirar 50 unidades de Alicia\u001b[39;00m\n\u001b[32m     54\u001b[39m alicia.retirar_dinero(\u001b[32m50\u001b[39m)  \u001b[38;5;66;03m# Saldo Alicia actualizado\u001b[39;00m\n",
      "\u001b[36mCell\u001b[39m\u001b[36m \u001b[39m\u001b[32mIn[46]\u001b[39m\u001b[32m, line 31\u001b[39m, in \u001b[36mUsuarioBanco.transferir_dinero\u001b[39m\u001b[34m(self, otro_usuario, cantidad)\u001b[39m\n\u001b[32m     29\u001b[39m     \u001b[38;5;28;01mraise\u001b[39;00m \u001b[38;5;167;01mException\u001b[39;00m(\u001b[33mf\u001b[39m\u001b[33m\"\u001b[39m\u001b[38;5;132;01m{\u001b[39;00motro_usuario.nombre\u001b[38;5;132;01m}\u001b[39;00m\u001b[33m no tiene cuenta corriente.\u001b[39m\u001b[33m\"\u001b[39m)\n\u001b[32m     30\u001b[39m \u001b[38;5;28;01mif\u001b[39;00m cantidad > otro_usuario.saldo:\n\u001b[32m---> \u001b[39m\u001b[32m31\u001b[39m     \u001b[38;5;28;01mraise\u001b[39;00m \u001b[38;5;167;01mException\u001b[39;00m(\u001b[33mf\u001b[39m\u001b[33m\"\u001b[39m\u001b[38;5;132;01m{\u001b[39;00motro_usuario.nombre\u001b[38;5;132;01m}\u001b[39;00m\u001b[33m no tiene suficiente saldo para transferir.\u001b[39m\u001b[33m\"\u001b[39m)\n\u001b[32m     32\u001b[39m otro_usuario.saldo -= cantidad\n\u001b[32m     33\u001b[39m \u001b[38;5;28mself\u001b[39m.saldo += cantidad\n",
      "\u001b[31mException\u001b[39m: Bob no tiene suficiente saldo para transferir."
     ]
    }
   ],
   "source": [
    "# 36. Crea la clase UsuarioBanco ,representa a un usuario de un banco con su nombre, saldo y si tiene o no cuenta corriente. Proporciona métodos para realizar operaciones como retirar dinero, transferir dinero desde otro usuario y agregar dinero al saldo. Código a seguir:  Inicializar un usuario con su nombre, saldo y si tiene o no cuenta corriente mediante  Implementar el método True y False . retirar_dinero para retirar dinero del saldo del usuario. Lanzará un error en caso de no poder hacerse.  Implementar el método transferir_dinero para realizar una transferencia desde otro usuario al usuario actual. Lanzará un error en caso de no poder hacerse.  Implementar el método agregar_dinero para agregar dinero al saldo del usuario. Caso de uso: Crear dos usuarios: \"Alicia\" con saldo inicial de 100 y \"Bob\" con saldo inicial de 50, ambos con cuenta corriente. 2 PROYECTO LÓGICA Katas de PythonAgregar 20 unidades de saldo de \"Bob\". Hacer una transferencia de 80 unidades desde \"Bob\" a \"Alicia\".  Retirar 50 unidades de saldo a \"Alicia\".\n",
    "class UsuarioBanco:\n",
    "    def __init__(self, nombre, saldo, cuenta_corriente=True):\n",
    "        \"\"\"\n",
    "        Inicializa un usuario con nombre, saldo y si tiene cuenta corriente.\n",
    "        \"\"\"\n",
    "        self.nombre = nombre\n",
    "        self.saldo = saldo\n",
    "        self.cuenta_corriente = cuenta_corriente\n",
    "\n",
    "    def retirar_dinero(self, cantidad):\n",
    "        \"\"\"\n",
    "        Retira dinero del saldo si es posible.\n",
    "        Lanza un error si no tiene suficiente saldo o no tiene cuenta corriente.\n",
    "        \"\"\"\n",
    "        if not self.cuenta_corriente:\n",
    "            raise Exception(f\"{self.nombre} no tiene cuenta corriente.\")\n",
    "        if cantidad > self.saldo:\n",
    "            raise Exception(f\"{self.nombre} no tiene suficiente saldo.\")\n",
    "        self.saldo -= cantidad\n",
    "        print(f\"{self.nombre} ha retirado {cantidad}. Saldo actual: {self.saldo}\")\n",
    "\n",
    "    def transferir_dinero(self, otro_usuario, cantidad):\n",
    "        \"\"\"\n",
    "        Transfiere dinero desde otro usuario al usuario actual.\n",
    "        Lanza un error si no es posible.\n",
    "        \"\"\"\n",
    "        if not otro_usuario.cuenta_corriente:\n",
    "            raise Exception(f\"{otro_usuario.nombre} no tiene cuenta corriente.\")\n",
    "        if cantidad > otro_usuario.saldo:\n",
    "            raise Exception(f\"{otro_usuario.nombre} no tiene suficiente saldo para transferir.\")\n",
    "        otro_usuario.saldo -= cantidad\n",
    "        self.saldo += cantidad\n",
    "        print(f\"{otro_usuario.nombre} transfirió {cantidad} a {self.nombre}.\")\n",
    "        print(f\"Saldo {otro_usuario.nombre}: {otro_usuario.saldo}, Saldo {self.nombre}: {self.saldo}\")\n",
    "\n",
    "    def agregar_dinero(self, cantidad):\n",
    "        \"\"\"\n",
    "        Agrega dinero al saldo.\n",
    "        \"\"\"\n",
    "        self.saldo += cantidad\n",
    "        print(f\"{self.nombre} ha agregado {cantidad}. Saldo actual: {self.saldo}\")\n",
    "# Crear dos usuarios\n",
    "alicia = UsuarioBanco(\"Alicia\", 100, True)\n",
    "bob = UsuarioBanco(\"Bob\", 50, True)\n",
    "\n",
    "# 1. Agregar 20 unidades a Bob\n",
    "bob.agregar_dinero(20)  # Saldo Bob: 70\n",
    "\n",
    "# 2. Transferir 80 unidades desde Bob a Alicia\n",
    "alicia.transferir_dinero(bob, 80)  # Bob -> Alicia\n",
    "\n",
    "# 3. Retirar 50 unidades de Alicia\n",
    "alicia.retirar_dinero(50)  # Saldo Alicia actualizado\n"
   ]
  },
  {
   "cell_type": "code",
   "execution_count": 48,
   "id": "333fcfe7",
   "metadata": {},
   "outputs": [
    {
     "name": "stdout",
     "output_type": "stream",
     "text": [
      "{'el': 2, 'perro': 2, 'corre': 1, 'rápido': 1, 'y': 1, 'ladra': 1, 'fuerte': 1}\n",
      "el gato corre rápido y el gato ladra fuerte\n",
      "el corre rápido y el ladra fuerte\n"
     ]
    }
   ],
   "source": [
    "#37. Crea una función llamada procesar_texto que procesa un texto según la opción especificada: reemplazar_palabras , procesar_texto . contar_palabras , eliminar_palabra . Estas opciones son otras funciones que tenemos que definir primero y llamar dentro de la función Código a seguir: Crear una función contar_palabras para contar el número de veces que aparece cada palabra en el texto. Tiene que devolver un diccionario. Crear una función reemplazar_palabras para remplazar una que devolver el texto con el remplazo de palabras. Crear una función palabra_original del texto por una palabra_nueva . Tiene eliminar_palabra para eliminar una palabra del texto. Tiene que devolver el texto con la palabra eliminada. Crear la función procesar_texto que tome un texto, una opción(entre \"contar\", \"reemplazar\", \"eliminar\") y un número de argumentos variable según la opción indicada. Caso de uso: Comprueba el funcionamiento completo de la función procesar_texto\n",
    "\n",
    "def contar_palabras(texto):\n",
    "    \"\"\"\n",
    "    Cuenta cuántas veces aparece cada palabra en el texto.\n",
    "    Devuelve un diccionario {palabra: frecuencia}.\n",
    "    \"\"\"\n",
    "    palabras = texto.split()\n",
    "    conteo = {}\n",
    "    for palabra in palabras:\n",
    "        conteo[palabra] = conteo.get(palabra, 0) + 1\n",
    "    return conteo\n",
    "\n",
    "\n",
    "def reemplazar_palabras(texto, palabra_original, palabra_nueva):\n",
    "    \"\"\"\n",
    "    Reemplaza una palabra del texto por otra.\n",
    "    \"\"\"\n",
    "    return texto.replace(palabra_original, palabra_nueva)\n",
    "\n",
    "\n",
    "def eliminar_palabra(texto, palabra):\n",
    "    \"\"\"\n",
    "    Elimina todas las apariciones de una palabra en el texto.\n",
    "    \"\"\"\n",
    "    palabras = texto.split()\n",
    "    palabras_filtradas = [p for p in palabras if p != palabra]\n",
    "    return \" \".join(palabras_filtradas)\n",
    "\n",
    "\n",
    "def procesar_texto(texto, opcion, *args):\n",
    "    \"\"\"\n",
    "    Procesa un texto según la opción indicada:\n",
    "    - \"contar\": cuenta las palabras\n",
    "    - \"reemplazar\": reemplaza una palabra por otra\n",
    "    - \"eliminar\": elimina una palabra\n",
    "    \n",
    "    Args:\n",
    "        texto (str): texto de entrada\n",
    "        opcion (str): opción a aplicar (\"contar\", \"reemplazar\", \"eliminar\")\n",
    "        *args: argumen*\n",
    "         \"\"\"\n",
    "    if opcion == \"contar\":\n",
    "        return contar_palabras(texto)\n",
    "    elif opcion == \"reemplazar\":\n",
    "        if len(args) != 2:\n",
    "            raise ValueError(\"La opción 'reemplazar' requiere dos argumentos: palabra_original y palabra_nueva.\")\n",
    "        return reemplazar_palabras(texto, args[0], args[1])\n",
    "    elif opcion == \"eliminar\":\n",
    "        if len(args) != 1:\n",
    "            raise ValueError(\"La opción 'eliminar' requiere un argumento: palabra a eliminar.\")\n",
    "        return eliminar_palabra(texto, args[0])\n",
    "    else:\n",
    "        raise ValueError(\"Opción no válida. Usa 'contar', 'reemplazar' o 'eliminar'.\")\n",
    "\n",
    "texto = \"el perro corre rápido y el perro ladra fuerte\"\n",
    "\n",
    "# Contar palabras\n",
    "print(procesar_texto(texto, \"contar\"))\n",
    "\n",
    "# Reemplazar palabra\n",
    "print(procesar_texto(texto, \"reemplazar\", \"perro\", \"gato\"))\n",
    "\n",
    "# Eliminar palabra\n",
    "print(procesar_texto(texto, \"eliminar\", \"perro\"))\n",
    "\n"
   ]
  },
  {
   "cell_type": "code",
   "execution_count": 50,
   "id": "f8144db9",
   "metadata": {},
   "outputs": [
    {
     "name": "stdout",
     "output_type": "stream",
     "text": [
      "Es Noche.\n"
     ]
    }
   ],
   "source": [
    "# 38.Genera un programa que nos diga si es de noche, de día o tarde según la hora proporcionada por el usuario.\n",
    "def determinar_momento_del_dia(hora):\n",
    "    \"\"\"\n",
    "    Determina si es de mañana, tarde o noche según la hora.\n",
    "    \n",
    "    Args:\n",
    "        hora (int): Hora en formato 24h (0-23)\n",
    "        \n",
    "    Returns:\n",
    "        str: \"Mañana\", \"Tarde\" o \"Noche\"\n",
    "    \"\"\"\n",
    "    if 6 <= hora < 12:\n",
    "        return \"Mañana\"\n",
    "    elif 12 <= hora < 20:\n",
    "        return \"Tarde\"\n",
    "    elif 0 <= hora < 6 or 20 <= hora <= 23:\n",
    "        return \"Noche\"\n",
    "    else:\n",
    "        return \"Hora no válida\"\n",
    "\n",
    "# Solicitar la hora al usuario\n",
    "try:\n",
    "    hora_usuario = int(input(\"Introduce la hora actual (0-23): \"))\n",
    "    resultado = determinar_momento_del_dia(hora_usuario)\n",
    "    print(f\"Es {resultado}.\")\n",
    "except ValueError:\n",
    "    print(\"Por favor, introduce un número válido entre 0 y 23.\")\n",
    "\n",
    "\n"
   ]
  },
  {
   "cell_type": "code",
   "execution_count": null,
   "id": "67f30209",
   "metadata": {},
   "outputs": [
    {
     "name": "stdout",
     "output_type": "stream",
     "text": [
      "Calificación en texto: Insuficiente\n"
     ]
    }
   ],
   "source": [
    "# 39. Escribe un programa que determine qué calificación en texto tiene un alumno en base a su calificación numérica. Las reglas de calificación son:  0  69 insuficiente  70  79 bien  80  89 muy bien  90  100 excelente\n",
    "def calificacion_texto(nota):\n",
    "    \"\"\"\n",
    "    Convierte una calificación numérica en texto según las reglas:\n",
    "    0-69: insuficiente\n",
    "    70-79: bien\n",
    "    80-89: muy bien\n",
    "    90-100: excelente\n",
    "    \"\"\"\n",
    "    if 0 <= nota <= 69:\n",
    "        return \"Insuficiente\"\n",
    "    elif 70 <= nota <= 79:\n",
    "        return \"Bien\"\n",
    "    elif 80 <= nota <= 89:\n",
    "        return \"Muy bien\"\n",
    "    elif 90 <= nota <= 100:\n",
    "        return \"Excelente\"\n",
    "    else:\n",
    "        return \"Calificación no válida\"\n",
    "\n",
    "# Solicitar calificación al usuario\n",
    "try:\n",
    "    nota_usuario = float(input(\"Introduce la calificación del alumno (0-100): \"))\n",
    "    print(f\"Calificación en texto: {calificacion_texto(nota_usuario)}\")\n",
    "except ValueError:\n",
    "    print(\"Por favor, introduce un número válido.\")\n",
    "\n",
    "\n"
   ]
  },
  {
   "cell_type": "code",
   "execution_count": 53,
   "id": "a63eb643",
   "metadata": {},
   "outputs": [
    {
     "name": "stdout",
     "output_type": "stream",
     "text": [
      "Área del triángulo: 25.0\n",
      "Área del rectángulo: 32\n",
      "Área del círculo: 28.274333882308138\n"
     ]
    }
   ],
   "source": [
    "# 40.Escribe una función que tome dos parámetros: \"triangulo\" ) y figura (una cadena que puede ser \"rectangulo\" , \"circulo\" o datos (una tupla con los datos necesarios para calcular el área de la figura).\n",
    "\n",
    "import math\n",
    "\n",
    "def calcular_area(figura, datos):\n",
    "    \"\"\"\n",
    "    Calcula el área de una figura según el tipo indicado.\n",
    "    \n",
    "    Args:\n",
    "        figura (str): \"triangulo\", \"rectangulo\" o \"circulo\"\n",
    "        datos (tuple): datos necesarios para el cálculo\n",
    "            - triangulo: (base, altura)\n",
    "            - rectangulo: (ancho, alto)\n",
    "            - circulo: (radio,)\n",
    "    \n",
    "    Returns:\n",
    "        float: área de la figura\n",
    "    \"\"\"\n",
    "    if figura.lower() == \"triangulo\":\n",
    "        base, altura = datos\n",
    "        return 0.5 * base * altura\n",
    "    elif figura.lower() == \"rectangulo\":\n",
    "        ancho, alto = datos\n",
    "        return ancho * alto\n",
    "    elif figura.lower() == \"circulo\":\n",
    "        (radio,) = datos\n",
    "        return math.pi * radio ** 2\n",
    "    else:\n",
    "        raise ValueError(\"Figura no válida. Usa 'triangulo', 'rectangulo' o 'circulo'.\")\n",
    "\n",
    "# Ejemplos de uso\n",
    "print(\"Área del triángulo:\", calcular_area(\"triangulo\", (5, 10)))\n",
    "print(\"Área del rectángulo:\", calcular_area(\"rectangulo\", (4, 8)))\n",
    "print(\"Área del círculo:\", calcular_area(\"circulo\", (3,)))\n"
   ]
  },
  {
   "cell_type": "code",
   "execution_count": 54,
   "id": "558ce340",
   "metadata": {},
   "outputs": [
    {
     "name": "stdout",
     "output_type": "stream",
     "text": [
      "No hay descuento aplicado. Precio final: 45.00€\n"
     ]
    }
   ],
   "source": [
    "# 41. En este ejercicio, se te pedirá que escribas un programa en Python que utilice condicionales para determinar el monto final de una compra en una tienda en línea, después de aplicar un descuento. El programa debe hacer lo siguiente: 1. Solicita al usuario que ingrese el precio original de un artículo. 2. Pregunta al usuario si tiene un cupón de descuento (respuesta sí o no). 3. Si el usuario responde que sí, solicita que ingrese el valor del cupón de descuento. 4. Aplica el descuento al precio original del artículo, siempre y cuando el valor del cupón sea válido (es decir, mayor a cero). Por ejemplo, descuento de 15€. 5. Muestra el precio final de la compra, teniendo en cuenta el descuento aplicado o sin él. 6. Recuerda utilizar estructuras de control de flujo como if, elif y else para llevar a cabo estas acciones en tu programa de Python.\n",
    "\n",
    "# Solicitar precio original\n",
    "try:\n",
    "    precio_original = float(input(\"Introduce el precio original del artículo: \"))\n",
    "    \n",
    "    if precio_original < 0:\n",
    "        print(\"El precio no puede ser negativo.\")\n",
    "    else:\n",
    "        # Preguntar si tiene cupón de descuento\n",
    "        tiene_cupon = input(\"¿Tienes un cupón de descuento? (sí/no): \").strip().lower()\n",
    "        \n",
    "        if tiene_cupon == \"sí\" or tiene_cupon == \"si\":\n",
    "            # Solicitar valor del cupón\n",
    "            descuento = float(input(\"Introduce el valor del cupón de descuento: \"))\n",
    "            if descuento > 0:\n",
    "                precio_final = precio_original - descuento\n",
    "                # Asegurarse de que el precio final no sea negativo\n",
    "                if precio_final < 0:\n",
    "                    precio_final = 0\n",
    "                print(f\"Precio final con descuento: {precio_final:.2f}€\")\n",
    "            else:\n",
    "                print(\"El valor del cupón no es válido. No se aplica descuento.\")\n",
    "                print(f\"Precio final: {precio_original:.2f}€\")\n",
    "        elif tiene_cupon == \"no\":\n",
    "            print(f\"No hay descuento aplicado. Precio final: {precio_original:.2f}€\")\n",
    "        else:\n",
    "            print(\"Respuesta no válida. Por favor, responde sí o no.\")\n",
    "except ValueError:\n",
    "    print(\"Por favor, introduce un número válido para el precio y el descuento.\")\n"
   ]
  },
  {
   "cell_type": "code",
   "execution_count": null,
   "id": "2ff76e67",
   "metadata": {},
   "outputs": [],
   "source": []
  }
 ],
 "metadata": {
  "kernelspec": {
   "display_name": ".venv",
   "language": "python",
   "name": "python3"
  },
  "language_info": {
   "codemirror_mode": {
    "name": "ipython",
    "version": 3
   },
   "file_extension": ".py",
   "mimetype": "text/x-python",
   "name": "python",
   "nbconvert_exporter": "python",
   "pygments_lexer": "ipython3",
   "version": "3.13.0"
  }
 },
 "nbformat": 4,
 "nbformat_minor": 5
}
